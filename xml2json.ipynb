{
 "cells": [
  {
   "cell_type": "code",
   "execution_count": 1,
   "id": "6b8d6d78",
   "metadata": {
    "scrolled": false
   },
   "outputs": [],
   "source": [
    "import xmltodict\n",
    "import pprint\n",
    "  \n",
    "with open('switchtdb.xml', 'r', encoding='utf-8') as file:\n",
    "    my_xml = file.read()\n",
    "\n",
    "temp_dict = xmltodict.parse(my_xml)\n",
    "my_dict = temp_dict['datafile']['game']"
   ]
  },
  {
   "cell_type": "code",
   "execution_count": 2,
   "id": "78d5264c",
   "metadata": {
    "scrolled": true
   },
   "outputs": [],
   "source": [
    "def remparen(st):\n",
    "    return st[:st.rfind(\"(\")-1]\n",
    "\n",
    "gamelist1=[{\"name\":remparen(d[\"@name\"]),\"id\":d[\"id\"],\"regions\":d[\"region\"]} for d in my_dict]"
   ]
  },
  {
   "cell_type": "code",
   "execution_count": 3,
   "id": "8d5612f2",
   "metadata": {},
   "outputs": [],
   "source": [
    "gl2=[{\"code\":g[\"id\"][:-1],\"name\":g[\"name\"],\"regions\":g[\"regions\"],\"version\":g[\"id\"][-1]} for g in gamelist1]"
   ]
  },
  {
   "cell_type": "code",
   "execution_count": 4,
   "id": "c5fc41b5",
   "metadata": {},
   "outputs": [],
   "source": [
    "import json\n",
    "with open('gdata.json', 'w') as f:\n",
    "    json.dump(gl2, f)\n",
    "    \n",
    "import csv\n",
    "dictfields = ['code', 'name', 'regions', 'version']\n",
    "with open(\"gdata.csv\", 'w') as csvfile: \n",
    "    writer = csv.DictWriter(csvfile, fieldnames = dictfields) \n",
    "    writer.writeheader() \n",
    "    writer.writerows(gl2) \n"
   ]
  }
 ],
 "metadata": {
  "kernelspec": {
   "display_name": "Python 3 (ipykernel)",
   "language": "python",
   "name": "python3"
  },
  "language_info": {
   "codemirror_mode": {
    "name": "ipython",
    "version": 3
   },
   "file_extension": ".py",
   "mimetype": "text/x-python",
   "name": "python",
   "nbconvert_exporter": "python",
   "pygments_lexer": "ipython3",
   "version": "3.9.7"
  }
 },
 "nbformat": 4,
 "nbformat_minor": 5
}
